{
  "cells": [
    {
      "cell_type": "markdown",
      "metadata": {
        "id": "KpIdLsIEvdPQ"
      },
      "source": [
        "Day 2 python programming language"
      ]
    },
    {
      "cell_type": "markdown",
      "metadata": {
        "id": "fJ0kEvoHv8-f"
      },
      "source": [
        "python is interpreter and high level language."
      ]
    },
    {
      "cell_type": "code",
      "execution_count": null,
      "metadata": {
        "colab": {
          "base_uri": "https://localhost:8080/"
        },
        "id": "cwaYGfinwBVE",
        "outputId": "1631ba9d-6879-4d27-e7c5-7e580bdefa92"
      },
      "outputs": [
        {
          "data": {
            "text/plain": [
              "10"
            ]
          },
          "execution_count": 4,
          "metadata": {},
          "output_type": "execute_result"
        }
      ],
      "source": [
        "10"
      ]
    },
    {
      "cell_type": "code",
      "execution_count": null,
      "metadata": {
        "colab": {
          "base_uri": "https://localhost:8080/"
        },
        "id": "4ZCHutd5yOrC",
        "outputId": "0fdfa41b-68a9-4837-ef8b-486400921b13"
      },
      "outputs": [
        {
          "data": {
            "text/plain": [
              "20.34"
            ]
          },
          "execution_count": 3,
          "metadata": {},
          "output_type": "execute_result"
        }
      ],
      "source": [
        "20.34"
      ]
    },
    {
      "cell_type": "code",
      "execution_count": null,
      "metadata": {
        "id": "6uhqEC8PzhFw"
      },
      "outputs": [],
      "source": [
        "a=3"
      ]
    },
    {
      "cell_type": "code",
      "execution_count": null,
      "metadata": {
        "colab": {
          "base_uri": "https://localhost:8080/"
        },
        "id": "SiJp_6gR5S9h",
        "outputId": "56501be5-6c6c-4006-e924-25775adbe099"
      },
      "outputs": [
        {
          "data": {
            "text/plain": [
              "3"
            ]
          },
          "execution_count": 8,
          "metadata": {},
          "output_type": "execute_result"
        }
      ],
      "source": [
        "a"
      ]
    },
    {
      "cell_type": "code",
      "execution_count": null,
      "metadata": {
        "colab": {
          "base_uri": "https://localhost:8080/"
        },
        "id": "MWGzN_f-5Y_f",
        "outputId": "a53d6cd4-cbff-4ade-9901-af0c45a5a254"
      },
      "outputs": [
        {
          "data": {
            "text/plain": [
              "int"
            ]
          },
          "execution_count": 9,
          "metadata": {},
          "output_type": "execute_result"
        }
      ],
      "source": [
        "type(a)"
      ]
    },
    {
      "cell_type": "code",
      "execution_count": null,
      "metadata": {
        "colab": {
          "base_uri": "https://localhost:8080/"
        },
        "id": "fJfcmlda835Q",
        "outputId": "33c527ef-ba5a-4747-9c3f-1360e1505ee0"
      },
      "outputs": [
        {
          "name": "stdout",
          "output_type": "stream",
          "text": [
            "value of : 3\n"
          ]
        }
      ],
      "source": [
        "print(\"value of :\",a)"
      ]
    },
    {
      "cell_type": "markdown",
      "metadata": {
        "id": "7bDBUMxv9GTz"
      },
      "source": [
        "Arthimetic operation"
      ]
    },
    {
      "cell_type": "code",
      "execution_count": null,
      "metadata": {
        "colab": {
          "base_uri": "https://localhost:8080/"
        },
        "id": "cSoRNXNr9JGS",
        "outputId": "b2348ae4-140e-4466-8265-3cef9f12abbf"
      },
      "outputs": [
        {
          "name": "stdout",
          "output_type": "stream",
          "text": [
            "7\n"
          ]
        }
      ],
      "source": [
        "a=3\n",
        "b=4\n",
        "print(a+b)"
      ]
    },
    {
      "cell_type": "code",
      "execution_count": null,
      "metadata": {
        "colab": {
          "base_uri": "https://localhost:8080/"
        },
        "id": "dVomB06J9eEG",
        "outputId": "8ffe3d66-92be-4e7b-fb0e-868d86e6cf53"
      },
      "outputs": [
        {
          "name": "stdout",
          "output_type": "stream",
          "text": [
            "0.75\n"
          ]
        }
      ],
      "source": [
        "print(a/b)"
      ]
    },
    {
      "cell_type": "code",
      "execution_count": null,
      "metadata": {
        "colab": {
          "base_uri": "https://localhost:8080/"
        },
        "id": "YitZaZxt9hc-",
        "outputId": "74d7650c-c160-499e-9a7d-9d1de4342f36"
      },
      "outputs": [
        {
          "name": "stdout",
          "output_type": "stream",
          "text": [
            "1.3333333333333333\n"
          ]
        }
      ],
      "source": [
        "print(b/a)"
      ]
    },
    {
      "cell_type": "code",
      "execution_count": null,
      "metadata": {
        "colab": {
          "base_uri": "https://localhost:8080/"
        },
        "id": "5gvQSM-P9oUI",
        "outputId": "1d93a9ef-d1fb-4690-f9e9-c3a5212b4cd4"
      },
      "outputs": [
        {
          "name": "stdout",
          "output_type": "stream",
          "text": [
            "0\n"
          ]
        }
      ],
      "source": [
        "print(a//b)"
      ]
    },
    {
      "cell_type": "code",
      "execution_count": null,
      "metadata": {
        "colab": {
          "base_uri": "https://localhost:8080/"
        },
        "id": "_yt7hL23-iKe",
        "outputId": "4f59e841-90ab-4d20-b1f4-7057b22208e8"
      },
      "outputs": [
        {
          "name": "stdout",
          "output_type": "stream",
          "text": [
            "1.3333333333333333\n"
          ]
        }
      ],
      "source": [
        "print(b/a)"
      ]
    },
    {
      "cell_type": "markdown",
      "metadata": {
        "id": "fLqa4GRe4wMc"
      },
      "source": [
        "Python Day 2"
      ]
    },
    {
      "cell_type": "markdown",
      "metadata": {
        "id": "nwfd99-z42ZO"
      },
      "source": [
        "Python Data types"
      ]
    },
    {
      "cell_type": "code",
      "execution_count": null,
      "metadata": {
        "colab": {
          "base_uri": "https://localhost:8080/"
        },
        "id": "mL3O9Nv65v_j",
        "outputId": "fde114ce-66c1-4bab-82a4-5aee02f39b15"
      },
      "outputs": [
        {
          "data": {
            "text/plain": [
              "['__doc__',\n",
              " '__loader__',\n",
              " '__name__',\n",
              " '__package__',\n",
              " '__spec__',\n",
              " 'acos',\n",
              " 'acosh',\n",
              " 'asin',\n",
              " 'asinh',\n",
              " 'atan',\n",
              " 'atan2',\n",
              " 'atanh',\n",
              " 'ceil',\n",
              " 'copysign',\n",
              " 'cos',\n",
              " 'cosh',\n",
              " 'degrees',\n",
              " 'e',\n",
              " 'erf',\n",
              " 'erfc',\n",
              " 'exp',\n",
              " 'expm1',\n",
              " 'fabs',\n",
              " 'factorial',\n",
              " 'floor',\n",
              " 'fmod',\n",
              " 'frexp',\n",
              " 'fsum',\n",
              " 'gamma',\n",
              " 'gcd',\n",
              " 'hypot',\n",
              " 'inf',\n",
              " 'isclose',\n",
              " 'isfinite',\n",
              " 'isinf',\n",
              " 'isnan',\n",
              " 'ldexp',\n",
              " 'lgamma',\n",
              " 'log',\n",
              " 'log10',\n",
              " 'log1p',\n",
              " 'log2',\n",
              " 'modf',\n",
              " 'nan',\n",
              " 'pi',\n",
              " 'pow',\n",
              " 'radians',\n",
              " 'remainder',\n",
              " 'sin',\n",
              " 'sinh',\n",
              " 'sqrt',\n",
              " 'tan',\n",
              " 'tanh',\n",
              " 'tau',\n",
              " 'trunc']"
            ]
          },
          "execution_count": 1,
          "metadata": {},
          "output_type": "execute_result"
        }
      ],
      "source": [
        "import math\n",
        "dir(math)"
      ]
    },
    {
      "cell_type": "code",
      "execution_count": null,
      "metadata": {
        "id": "fHfT7fGB6LC1"
      },
      "outputs": [],
      "source": [
        "math.pow?"
      ]
    },
    {
      "cell_type": "code",
      "execution_count": null,
      "metadata": {
        "colab": {
          "base_uri": "https://localhost:8080/"
        },
        "id": "8Fk1S7ub6NYH",
        "outputId": "3e3732da-23ba-4a50-ed94-9ba9bf7c6e64"
      },
      "outputs": [
        {
          "data": {
            "text/plain": [
              "8.0"
            ]
          },
          "execution_count": 3,
          "metadata": {},
          "output_type": "execute_result"
        }
      ],
      "source": [
        "math.pow(2,3)"
      ]
    },
    {
      "cell_type": "code",
      "execution_count": null,
      "metadata": {
        "colab": {
          "base_uri": "https://localhost:8080/"
        },
        "id": "_4edq5Bs6USx",
        "outputId": "f5a362a9-1ba8-4114-ac99-9d569d7e17df"
      },
      "outputs": [
        {
          "data": {
            "text/plain": [
              "2.0"
            ]
          },
          "execution_count": 4,
          "metadata": {},
          "output_type": "execute_result"
        }
      ],
      "source": [
        "math.sqrt(4)"
      ]
    },
    {
      "cell_type": "code",
      "execution_count": null,
      "metadata": {
        "colab": {
          "base_uri": "https://localhost:8080/"
        },
        "id": "AdCZHh3F6pID",
        "outputId": "9c8e7847-2457-411b-9b21-6a591072d29a"
      },
      "outputs": [
        {
          "data": {
            "text/plain": [
              "3.141592653589793"
            ]
          },
          "execution_count": 5,
          "metadata": {},
          "output_type": "execute_result"
        }
      ],
      "source": [
        "math.pi"
      ]
    },
    {
      "cell_type": "code",
      "execution_count": null,
      "metadata": {
        "id": "N4kNEnTG6sq_"
      },
      "outputs": [],
      "source": [
        "math.pi?"
      ]
    },
    {
      "cell_type": "code",
      "execution_count": null,
      "metadata": {
        "colab": {
          "base_uri": "https://localhost:8080/"
        },
        "id": "v_jyCFci7JNr",
        "outputId": "c861f827-2d5f-41d5-e0f5-8c157768d83b"
      },
      "outputs": [
        {
          "data": {
            "text/plain": [
              "1.7453292519943295"
            ]
          },
          "execution_count": 8,
          "metadata": {},
          "output_type": "execute_result"
        }
      ],
      "source": [
        "math.radians(100)"
      ]
    },
    {
      "cell_type": "code",
      "execution_count": null,
      "metadata": {
        "colab": {
          "base_uri": "https://localhost:8080/"
        },
        "id": "An5pLVGm7RXy",
        "outputId": "9db77501-51fe-474e-9b5b-01756a0f22e3"
      },
      "outputs": [
        {
          "data": {
            "text/plain": [
              "0.6806784082777885"
            ]
          },
          "execution_count": 12,
          "metadata": {},
          "output_type": "execute_result"
        }
      ],
      "source": [
        "rad=math.radians(39)\n",
        "rad"
      ]
    },
    {
      "cell_type": "code",
      "execution_count": null,
      "metadata": {
        "colab": {
          "base_uri": "https://localhost:8080/"
        },
        "id": "b5cI8L7O7c6a",
        "outputId": "d5a6f04b-2292-4d20-831e-adab436f50c1"
      },
      "outputs": [
        {
          "data": {
            "text/plain": [
              "0.8939966636005579"
            ]
          },
          "execution_count": 13,
          "metadata": {},
          "output_type": "execute_result"
        }
      ],
      "source": [
        "math.sin(90)"
      ]
    },
    {
      "cell_type": "code",
      "execution_count": null,
      "metadata": {
        "id": "w4KbZNiT7haQ"
      },
      "outputs": [],
      "source": [
        "import random "
      ]
    },
    {
      "cell_type": "code",
      "execution_count": null,
      "metadata": {
        "colab": {
          "base_uri": "https://localhost:8080/"
        },
        "id": "57-Ftsor7t6U",
        "outputId": "87bd379f-8acc-4ef8-e960-b64404bbf0e2"
      },
      "outputs": [
        {
          "name": "stdout",
          "output_type": "stream",
          "text": [
            "['BPF', 'LOG4', 'NV_MAGICCONST', 'RECIP_BPF', 'Random', 'SG_MAGICCONST', 'SystemRandom', 'TWOPI', '_BuiltinMethodType', '_MethodType', '_Sequence', '_Set', '__all__', '__builtins__', '__cached__', '__doc__', '__file__', '__loader__', '__name__', '__package__', '__spec__', '_acos', '_bisect', '_ceil', '_cos', '_e', '_exp', '_inst', '_itertools', '_log', '_os', '_pi', '_random', '_sha512', '_sin', '_sqrt', '_test', '_test_generator', '_urandom', '_warn', 'betavariate', 'choice', 'choices', 'expovariate', 'gammavariate', 'gauss', 'getrandbits', 'getstate', 'lognormvariate', 'normalvariate', 'paretovariate', 'randint', 'random', 'randrange', 'sample', 'seed', 'setstate', 'shuffle', 'triangular', 'uniform', 'vonmisesvariate', 'weibullvariate']\n"
          ]
        }
      ],
      "source": [
        "print(dir(random))"
      ]
    },
    {
      "cell_type": "code",
      "execution_count": null,
      "metadata": {
        "colab": {
          "base_uri": "https://localhost:8080/"
        },
        "id": "aKJ3BVRb7yr2",
        "outputId": "2452a372-2093-4851-9f29-77fb6e06a0a7"
      },
      "outputs": [
        {
          "data": {
            "text/plain": [
              "0.25576313109662596"
            ]
          },
          "execution_count": 19,
          "metadata": {},
          "output_type": "execute_result"
        }
      ],
      "source": [
        "x=random.random()\n",
        "x"
      ]
    },
    {
      "cell_type": "code",
      "execution_count": null,
      "metadata": {
        "colab": {
          "base_uri": "https://localhost:8080/"
        },
        "id": "SbgoEHtR76cr",
        "outputId": "dfe5893f-7460-4310-dbc6-f46c29624827"
      },
      "outputs": [
        {
          "data": {
            "text/plain": [
              "5"
            ]
          },
          "execution_count": 21,
          "metadata": {},
          "output_type": "execute_result"
        }
      ],
      "source": [
        "random.randint(0,10)"
      ]
    },
    {
      "cell_type": "code",
      "execution_count": null,
      "metadata": {
        "colab": {
          "base_uri": "https://localhost:8080/"
        },
        "id": "-2LaJ4Xi8Leg",
        "outputId": "ebfde005-1734-415a-8c7e-91c0dec5ba69"
      },
      "outputs": [
        {
          "data": {
            "text/plain": [
              "6"
            ]
          },
          "execution_count": 22,
          "metadata": {},
          "output_type": "execute_result"
        }
      ],
      "source": [
        "random.randint(0,10)\n"
      ]
    },
    {
      "cell_type": "markdown",
      "metadata": {
        "id": "DTJHHjJh9l4q"
      },
      "source": [
        "Strings"
      ]
    },
    {
      "cell_type": "code",
      "execution_count": null,
      "metadata": {
        "colab": {
          "base_uri": "https://localhost:8080/",
          "height": 35
        },
        "id": "3BawqNZ89rme",
        "outputId": "bab6dec6-cf8e-490c-e891-576bed15d060"
      },
      "outputs": [
        {
          "data": {
            "application/vnd.google.colaboratory.intrinsic+json": {
              "type": "string"
            },
            "text/plain": [
              "'hellow'"
            ]
          },
          "execution_count": 23,
          "metadata": {},
          "output_type": "execute_result"
        }
      ],
      "source": [
        "'hellow'"
      ]
    },
    {
      "cell_type": "code",
      "execution_count": null,
      "metadata": {
        "colab": {
          "base_uri": "https://localhost:8080/",
          "height": 35
        },
        "id": "6V2ECNYm_SBV",
        "outputId": "ff638f49-9d6c-489e-fa36-4f90df2d1403"
      },
      "outputs": [
        {
          "data": {
            "application/vnd.google.colaboratory.intrinsic+json": {
              "type": "string"
            },
            "text/plain": [
              "'ellow'"
            ]
          },
          "execution_count": 24,
          "metadata": {},
          "output_type": "execute_result"
        }
      ],
      "source": [
        "a='hellow'\n",
        "a[1:]"
      ]
    },
    {
      "cell_type": "code",
      "execution_count": null,
      "metadata": {
        "colab": {
          "base_uri": "https://localhost:8080/",
          "height": 35
        },
        "id": "dBHEvGny_ZRw",
        "outputId": "7fda3333-9835-4cf5-fcdc-04e6f2632c54"
      },
      "outputs": [
        {
          "data": {
            "application/vnd.google.colaboratory.intrinsic+json": {
              "type": "string"
            },
            "text/plain": [
              "'w'"
            ]
          },
          "execution_count": 25,
          "metadata": {},
          "output_type": "execute_result"
        }
      ],
      "source": [
        "a[-1]"
      ]
    },
    {
      "cell_type": "code",
      "execution_count": null,
      "metadata": {
        "colab": {
          "base_uri": "https://localhost:8080/",
          "height": 35
        },
        "id": "a1Pc8qGs_gIS",
        "outputId": "39948498-6d1f-40c6-acf0-bbf2f4f1d271"
      },
      "outputs": [
        {
          "data": {
            "application/vnd.google.colaboratory.intrinsic+json": {
              "type": "string"
            },
            "text/plain": [
              "'ell'"
            ]
          },
          "execution_count": 26,
          "metadata": {},
          "output_type": "execute_result"
        }
      ],
      "source": [
        "a[1:-2]"
      ]
    },
    {
      "cell_type": "code",
      "execution_count": null,
      "metadata": {
        "colab": {
          "base_uri": "https://localhost:8080/"
        },
        "id": "U7uPe9G1CkFZ",
        "outputId": "9eb8ba50-be16-4f07-cc28-88a8ecd611fd"
      },
      "outputs": [
        {
          "data": {
            "text/plain": [
              "9"
            ]
          },
          "execution_count": 27,
          "metadata": {},
          "output_type": "execute_result"
        }
      ],
      "source": [
        "s='education'\n",
        "len(s)"
      ]
    },
    {
      "cell_type": "markdown",
      "metadata": {
        "id": "ltUC0Z6XEJcj"
      },
      "source": [
        "Operation in string"
      ]
    },
    {
      "cell_type": "code",
      "execution_count": null,
      "metadata": {
        "colab": {
          "base_uri": "https://localhost:8080/"
        },
        "id": "F3iJU5zWEMzE",
        "outputId": "69d69dc8-422b-42dc-c0ef-04d4e2ffcf01"
      },
      "outputs": [
        {
          "name": "stdout",
          "output_type": "stream",
          "text": [
            "['__add__', '__class__', '__contains__', '__delattr__', '__dir__', '__doc__', '__eq__', '__format__', '__ge__', '__getattribute__', '__getitem__', '__getnewargs__', '__gt__', '__hash__', '__init__', '__init_subclass__', '__iter__', '__le__', '__len__', '__lt__', '__mod__', '__mul__', '__ne__', '__new__', '__reduce__', '__reduce_ex__', '__repr__', '__rmod__', '__rmul__', '__setattr__', '__sizeof__', '__str__', '__subclasshook__', 'capitalize', 'casefold', 'center', 'count', 'encode', 'endswith', 'expandtabs', 'find', 'format', 'format_map', 'index', 'isalnum', 'isalpha', 'isascii', 'isdecimal', 'isdigit', 'isidentifier', 'islower', 'isnumeric', 'isprintable', 'isspace', 'istitle', 'isupper', 'join', 'ljust', 'lower', 'lstrip', 'maketrans', 'partition', 'replace', 'rfind', 'rindex', 'rjust', 'rpartition', 'rsplit', 'rstrip', 'split', 'splitlines', 'startswith', 'strip', 'swapcase', 'title', 'translate', 'upper', 'zfill']\n"
          ]
        }
      ],
      "source": [
        "s=\"hello world\"\n",
        "print(dir(s))"
      ]
    },
    {
      "cell_type": "code",
      "execution_count": null,
      "metadata": {
        "colab": {
          "base_uri": "https://localhost:8080/",
          "height": 35
        },
        "id": "s8ccFVzTEwx_",
        "outputId": "dd4234e2-8718-4680-ae16-f78284c5313c"
      },
      "outputs": [
        {
          "data": {
            "application/vnd.google.colaboratory.intrinsic+json": {
              "type": "string"
            },
            "text/plain": [
              "'Hello world'"
            ]
          },
          "execution_count": 29,
          "metadata": {},
          "output_type": "execute_result"
        }
      ],
      "source": [
        "s.capitalize()"
      ]
    },
    {
      "cell_type": "markdown",
      "metadata": {
        "id": "0kDWywbaE57A"
      },
      "source": [
        "string is immutable"
      ]
    },
    {
      "cell_type": "code",
      "execution_count": null,
      "metadata": {
        "id": "O-mJlzeyE8_i"
      },
      "outputs": [],
      "source": [
        "s.count?"
      ]
    },
    {
      "cell_type": "code",
      "execution_count": null,
      "metadata": {
        "colab": {
          "base_uri": "https://localhost:8080/"
        },
        "id": "5AdBQ05IFFvH",
        "outputId": "e8711e34-4e04-4148-8864-998695feb65b"
      },
      "outputs": [
        {
          "data": {
            "text/plain": [
              "3"
            ]
          },
          "execution_count": 34,
          "metadata": {},
          "output_type": "execute_result"
        }
      ],
      "source": [
        "s.count('l')"
      ]
    },
    {
      "cell_type": "code",
      "execution_count": null,
      "metadata": {
        "colab": {
          "base_uri": "https://localhost:8080/",
          "height": 35
        },
        "id": "gj7kajmpFPFj",
        "outputId": "88a6eb10-f737-4ca6-edbf-6da99af751a5"
      },
      "outputs": [
        {
          "data": {
            "application/vnd.google.colaboratory.intrinsic+json": {
              "type": "string"
            },
            "text/plain": [
              "'HELLO WORLD'"
            ]
          },
          "execution_count": 35,
          "metadata": {},
          "output_type": "execute_result"
        }
      ],
      "source": [
        "s.upper()"
      ]
    },
    {
      "cell_type": "code",
      "execution_count": null,
      "metadata": {
        "colab": {
          "base_uri": "https://localhost:8080/"
        },
        "id": "rNyh4KspFauQ",
        "outputId": "b61e3601-c727-4bfa-babc-d0fd80f08cd0"
      },
      "outputs": [
        {
          "data": {
            "text/plain": [
              "6"
            ]
          },
          "execution_count": 36,
          "metadata": {},
          "output_type": "execute_result"
        }
      ],
      "source": [
        "s.find('w')"
      ]
    },
    {
      "cell_type": "code",
      "execution_count": null,
      "metadata": {
        "colab": {
          "base_uri": "https://localhost:8080/",
          "height": 165
        },
        "id": "N7sqDPIgFkho",
        "outputId": "fda5affd-f139-4088-8fb8-5708e465ce0c"
      },
      "outputs": [
        {
          "ename": "TypeError",
          "evalue": "ignored",
          "output_type": "error",
          "traceback": [
            "\u001b[0;31m---------------------------------------------------------------------------\u001b[0m",
            "\u001b[0;31mTypeError\u001b[0m                                 Traceback (most recent call last)",
            "\u001b[0;32m<ipython-input-38-ab359d50dcca>\u001b[0m in \u001b[0;36m<module>\u001b[0;34m()\u001b[0m\n\u001b[0;32m----> 1\u001b[0;31m \u001b[0ms\u001b[0m\u001b[0;34m[\u001b[0m\u001b[0;36m0\u001b[0m\u001b[0;34m]\u001b[0m\u001b[0;34m=\u001b[0m\u001b[0;34m'k'\u001b[0m\u001b[0;34m\u001b[0m\u001b[0;34m\u001b[0m\u001b[0m\n\u001b[0m",
            "\u001b[0;31mTypeError\u001b[0m: 'str' object does not support item assignment"
          ]
        }
      ],
      "source": [
        "s[0]='k'"
      ]
    },
    {
      "cell_type": "code",
      "execution_count": null,
      "metadata": {
        "id": "pDMZbMLSIphW"
      },
      "outputs": [],
      "source": [
        ""
      ]
    },
    {
      "cell_type": "markdown",
      "metadata": {
        "id": "11338oiHGWwo"
      },
      "source": [
        "Data Structure"
      ]
    },
    {
      "cell_type": "markdown",
      "metadata": {
        "id": "WcGCbptuG5TG"
      },
      "source": [
        "Way of organizing data in computer memory"
      ]
    },
    {
      "cell_type": "markdown",
      "metadata": {
        "id": "PidcFILsHD10"
      },
      "source": [
        "DS in python\n",
        "list\n",
        "Dictionary\n",
        "Sets\n",
        "Tuples"
      ]
    },
    {
      "cell_type": "markdown",
      "metadata": {
        "id": "dllr1ySiHjcS"
      },
      "source": [
        ""
      ]
    },
    {
      "cell_type": "markdown",
      "metadata": {
        "id": "By3xfYBDHmO7"
      },
      "source": [
        "List: list is collection of elements closed within[-----]"
      ]
    },
    {
      "cell_type": "code",
      "execution_count": null,
      "metadata": {
        "colab": {
          "base_uri": "https://localhost:8080/"
        },
        "id": "53JC8rWsIBOa",
        "outputId": "c262cb97-bccf-469b-a449-4f4a7cde1823"
      },
      "outputs": [
        {
          "data": {
            "text/plain": [
              "[10, 20, 12, 12, 334]"
            ]
          },
          "execution_count": 40,
          "metadata": {},
          "output_type": "execute_result"
        }
      ],
      "source": [
        "age=[10,20,12,12,334]\n",
        "age"
      ]
    },
    {
      "cell_type": "code",
      "execution_count": null,
      "metadata": {
        "colab": {
          "base_uri": "https://localhost:8080/"
        },
        "id": "N-S_wAslIH1F",
        "outputId": "b61ef839-dfab-45ac-b194-59bc6dc14f28"
      },
      "outputs": [
        {
          "data": {
            "text/plain": [
              "list"
            ]
          },
          "execution_count": 41,
          "metadata": {},
          "output_type": "execute_result"
        }
      ],
      "source": [
        "type(age)"
      ]
    },
    {
      "cell_type": "markdown",
      "metadata": {
        "id": "9N-pI6S7_V6H"
      },
      "source": [
        "Day 3"
      ]
    },
    {
      "cell_type": "markdown",
      "metadata": {
        "id": "d84PCe2V_b1h"
      },
      "source": [
        "**list**\n",
        "list is collection of elements of different data type.\n",
        "list is mutable data type"
      ]
    },
    {
      "cell_type": "code",
      "execution_count": null,
      "metadata": {
        "colab": {
          "base_uri": "https://localhost:8080/"
        },
        "id": "izgj7sJJ_rjY",
        "outputId": "0c4b5323-7345-49ff-d3e5-38af5eae6a09"
      },
      "outputs": [
        {
          "data": {
            "text/plain": [
              "[1, 'helloe', 7, 'k', 50.8]"
            ]
          },
          "execution_count": 1,
          "metadata": {},
          "output_type": "execute_result"
        }
      ],
      "source": [
        "l=[1,'helloe',7,'k',50.80]\n",
        "l"
      ]
    },
    {
      "cell_type": "code",
      "execution_count": null,
      "metadata": {
        "colab": {
          "base_uri": "https://localhost:8080/"
        },
        "id": "TK4rU_ZNAU3y",
        "outputId": "1cb68279-1942-4fd0-bd87-9f6b2c366495"
      },
      "outputs": [
        {
          "data": {
            "text/plain": [
              "40"
            ]
          },
          "execution_count": 4,
          "metadata": {},
          "output_type": "execute_result"
        }
      ],
      "source": [
        "l[3]"
      ]
    },
    {
      "cell_type": "code",
      "execution_count": null,
      "metadata": {
        "colab": {
          "base_uri": "https://localhost:8080/"
        },
        "id": "bZWVM0HZ__mu",
        "outputId": "38c11e1c-b5f1-4aad-a3b9-7573320e4d2a"
      },
      "outputs": [
        {
          "data": {
            "text/plain": [
              "5"
            ]
          },
          "execution_count": 2,
          "metadata": {},
          "output_type": "execute_result"
        }
      ],
      "source": [
        "len(l)"
      ]
    },
    {
      "cell_type": "code",
      "execution_count": null,
      "metadata": {
        "colab": {
          "base_uri": "https://localhost:8080/"
        },
        "id": "RSqILDRfAMmV",
        "outputId": "e94ba51e-b9a5-4fa2-f9a2-21d4225736d3"
      },
      "outputs": [
        {
          "data": {
            "text/plain": [
              "30"
            ]
          },
          "execution_count": 3,
          "metadata": {},
          "output_type": "execute_result"
        }
      ],
      "source": [
        "l=[10,20,30,40]\n",
        "l[-2]"
      ]
    },
    {
      "cell_type": "markdown",
      "metadata": {
        "id": "rgWexiOrBATV"
      },
      "source": [
        "Slicing operation :is perform to extract sublist from given list."
      ]
    },
    {
      "cell_type": "code",
      "execution_count": null,
      "metadata": {
        "colab": {
          "base_uri": "https://localhost:8080/"
        },
        "id": "pK4CW1ZdBJLM",
        "outputId": "d783ca97-6155-4143-82ad-8c40580f418b"
      },
      "outputs": [
        {
          "data": {
            "text/plain": [
              "[10, 20, 30, 40, 50]"
            ]
          },
          "execution_count": 5,
          "metadata": {},
          "output_type": "execute_result"
        }
      ],
      "source": [
        "sl=[10,20,30,40,50]\n",
        "sl"
      ]
    },
    {
      "cell_type": "code",
      "execution_count": null,
      "metadata": {
        "colab": {
          "base_uri": "https://localhost:8080/"
        },
        "id": "ywfPa0RRBTos",
        "outputId": "e0b8c4a8-196e-499f-a4fd-9385c8bbcf6b"
      },
      "outputs": [
        {
          "data": {
            "text/plain": [
              "[10, 20, 30]"
            ]
          },
          "execution_count": 6,
          "metadata": {},
          "output_type": "execute_result"
        }
      ],
      "source": [
        "sl[0:3]"
      ]
    },
    {
      "cell_type": "code",
      "execution_count": null,
      "metadata": {
        "colab": {
          "base_uri": "https://localhost:8080/"
        },
        "id": "H3y7uvCJBYhf",
        "outputId": "b148759d-78ec-4a54-c55a-ba3cee73c71a"
      },
      "outputs": [
        {
          "data": {
            "text/plain": [
              "[40, 50]"
            ]
          },
          "execution_count": 8,
          "metadata": {},
          "output_type": "execute_result"
        }
      ],
      "source": [
        "sl[3:7]"
      ]
    },
    {
      "cell_type": "code",
      "execution_count": null,
      "metadata": {
        "colab": {
          "base_uri": "https://localhost:8080/"
        },
        "id": "FtviZNFmBoQF",
        "outputId": "330c2ffb-8b8f-4b8e-fa51-9c364a37ab4d"
      },
      "outputs": [
        {
          "data": {
            "text/plain": [
              "['gh', 'hj', 8, 9, 5, 6, 'yu', 'ui']"
            ]
          },
          "execution_count": 9,
          "metadata": {},
          "output_type": "execute_result"
        }
      ],
      "source": [
        "a=['gh','hj',8,9,5,6,'yu','ui']\n",
        "a"
      ]
    },
    {
      "cell_type": "code",
      "execution_count": null,
      "metadata": {
        "colab": {
          "base_uri": "https://localhost:8080/"
        },
        "id": "IvwigqygBzZh",
        "outputId": "d30e10ff-0114-4869-ecc6-2868d42e76cc"
      },
      "outputs": [
        {
          "data": {
            "text/plain": [
              "['gh', 'hj', 8, 9, 5]"
            ]
          },
          "execution_count": 10,
          "metadata": {},
          "output_type": "execute_result"
        }
      ],
      "source": [
        "a[0:5]"
      ]
    },
    {
      "cell_type": "code",
      "execution_count": null,
      "metadata": {
        "colab": {
          "base_uri": "https://localhost:8080/"
        },
        "id": "H8fstqRYB9tY",
        "outputId": "4563934c-f9b4-4bff-9a45-3fdaf120d15b"
      },
      "outputs": [
        {
          "data": {
            "text/plain": [
              "[5, 6, 'yu', 'ui']"
            ]
          },
          "execution_count": 11,
          "metadata": {},
          "output_type": "execute_result"
        }
      ],
      "source": [
        "a[-4:]"
      ]
    },
    {
      "cell_type": "code",
      "execution_count": null,
      "metadata": {
        "colab": {
          "base_uri": "https://localhost:8080/"
        },
        "id": "eXb_fSJQB-Ds",
        "outputId": "43121988-1a2c-48ca-bc6c-034fe8234be0"
      },
      "outputs": [
        {
          "data": {
            "text/plain": [
              "[5, 6]"
            ]
          },
          "execution_count": 12,
          "metadata": {},
          "output_type": "execute_result"
        }
      ],
      "source": [
        "a[4:6]"
      ]
    },
    {
      "cell_type": "markdown",
      "metadata": {
        "id": "9w6r8F0_CsQ4"
      },
      "source": [
        "Operation on lIst"
      ]
    },
    {
      "cell_type": "code",
      "execution_count": null,
      "metadata": {
        "colab": {
          "base_uri": "https://localhost:8080/"
        },
        "id": "vmIekAM3C-U1",
        "outputId": "ec346c6b-3cae-412e-9e8e-b2aaf9136fda"
      },
      "outputs": [
        {
          "name": "stdout",
          "output_type": "stream",
          "text": [
            "['__add__', '__class__', '__contains__', '__delattr__', '__delitem__', '__dir__', '__doc__', '__eq__', '__format__', '__ge__', '__getattribute__', '__getitem__', '__gt__', '__hash__', '__iadd__', '__imul__', '__init__', '__init_subclass__', '__iter__', '__le__', '__len__', '__lt__', '__mul__', '__ne__', '__new__', '__reduce__', '__reduce_ex__', '__repr__', '__reversed__', '__rmul__', '__setattr__', '__setitem__', '__sizeof__', '__str__', '__subclasshook__', 'append', 'clear', 'copy', 'count', 'extend', 'index', 'insert', 'pop', 'remove', 'reverse', 'sort']\n"
          ]
        }
      ],
      "source": [
        "w=[\"w\",\"e\",\"g\",\"r\"]\n",
        "print(dir(l))"
      ]
    },
    {
      "cell_type": "code",
      "execution_count": null,
      "metadata": {
        "id": "yntRzw9sDBRF"
      },
      "outputs": [],
      "source": [
        "w.append(\"k\")"
      ]
    },
    {
      "cell_type": "code",
      "execution_count": null,
      "metadata": {
        "colab": {
          "base_uri": "https://localhost:8080/"
        },
        "id": "j_ydbC29EEOZ",
        "outputId": "0ba97369-f338-4df6-f66c-64cfa641c631"
      },
      "outputs": [
        {
          "data": {
            "text/plain": [
              "['w', 'e', 'g', 'r', 'k', 'k']"
            ]
          },
          "execution_count": 31,
          "metadata": {},
          "output_type": "execute_result"
        }
      ],
      "source": [
        "w"
      ]
    },
    {
      "cell_type": "code",
      "execution_count": null,
      "metadata": {
        "colab": {
          "base_uri": "https://localhost:8080/"
        },
        "id": "aoqmICtsDT3j",
        "outputId": "4b25511b-ac05-40aa-cb41-1d3d35df3f2a"
      },
      "outputs": [
        {
          "data": {
            "text/plain": [
              "<function list.clear>"
            ]
          },
          "execution_count": 26,
          "metadata": {},
          "output_type": "execute_result"
        }
      ],
      "source": [
        "t=[12,34,56,67,34]\n",
        "t.clear"
      ]
    },
    {
      "cell_type": "code",
      "execution_count": null,
      "metadata": {
        "colab": {
          "base_uri": "https://localhost:8080/"
        },
        "id": "ZbZN0SqRDdiX",
        "outputId": "fb65f6f9-7157-4658-817f-e20f167d632a"
      },
      "outputs": [
        {
          "data": {
            "text/plain": [
              "1"
            ]
          },
          "execution_count": 29,
          "metadata": {},
          "output_type": "execute_result"
        }
      ],
      "source": [
        "w.count(\"w\")"
      ]
    },
    {
      "cell_type": "code",
      "execution_count": null,
      "metadata": {
        "colab": {
          "base_uri": "https://localhost:8080/"
        },
        "id": "APyz3ET6Ebxm",
        "outputId": "f7ab42ef-d895-4e2b-8794-6915eec2c935"
      },
      "outputs": [
        {
          "data": {
            "text/plain": [
              "1"
            ]
          },
          "execution_count": 35,
          "metadata": {},
          "output_type": "execute_result"
        }
      ],
      "source": [
        "u=[12,34,56,778]\n",
        "u.index(34)"
      ]
    },
    {
      "cell_type": "code",
      "execution_count": null,
      "metadata": {
        "colab": {
          "base_uri": "https://localhost:8080/"
        },
        "id": "msXi5B-EEzE5",
        "outputId": "d421d156-3497-4212-eb95-eca4b83c0878"
      },
      "outputs": [
        {
          "data": {
            "text/plain": [
              "[12, 34, 56, 778, 345]"
            ]
          },
          "execution_count": 36,
          "metadata": {},
          "output_type": "execute_result"
        }
      ],
      "source": [
        "u.append(345)\n",
        "u"
      ]
    },
    {
      "cell_type": "code",
      "execution_count": null,
      "metadata": {
        "colab": {
          "base_uri": "https://localhost:8080/"
        },
        "id": "dL2TVL6GE3h-",
        "outputId": "d887df95-08f6-48a5-ee59-cf1e57c1058b"
      },
      "outputs": [
        {
          "data": {
            "text/plain": [
              "345"
            ]
          },
          "execution_count": 37,
          "metadata": {},
          "output_type": "execute_result"
        }
      ],
      "source": [
        "u.pop()"
      ]
    },
    {
      "cell_type": "code",
      "execution_count": null,
      "metadata": {
        "colab": {
          "base_uri": "https://localhost:8080/"
        },
        "id": "mrvQruebE75J",
        "outputId": "ee870d7d-d1a0-4cf4-bd84-4ae6796c626e"
      },
      "outputs": [
        {
          "data": {
            "text/plain": [
              "[778, 56, 34, 12]"
            ]
          },
          "execution_count": 40,
          "metadata": {},
          "output_type": "execute_result"
        }
      ],
      "source": [
        "u.reverse()\n",
        "u"
      ]
    },
    {
      "cell_type": "code",
      "execution_count": null,
      "metadata": {
        "id": "4Z-p7padFEKg"
      },
      "outputs": [],
      "source": [
        "p=[23,45,21,13,10]"
      ]
    },
    {
      "cell_type": "code",
      "execution_count": null,
      "metadata": {
        "colab": {
          "base_uri": "https://localhost:8080/"
        },
        "id": "4ofebxZdFKWX",
        "outputId": "81aef96d-5ff0-44f7-a692-e812cce8f292"
      },
      "outputs": [
        {
          "data": {
            "text/plain": [
              "[10, 13, 21, 23, 45]"
            ]
          },
          "execution_count": 44,
          "metadata": {},
          "output_type": "execute_result"
        }
      ],
      "source": [
        "p.sort()\n",
        "p"
      ]
    },
    {
      "cell_type": "code",
      "execution_count": null,
      "metadata": {
        "colab": {
          "base_uri": "https://localhost:8080/"
        },
        "id": "j2xUbM27FjmJ",
        "outputId": "90d22006-d2b6-4162-c592-7b09defaf0e0"
      },
      "outputs": [
        {
          "data": {
            "text/plain": [
              "[45, 23, 21, 13, 10]"
            ]
          },
          "execution_count": 47,
          "metadata": {},
          "output_type": "execute_result"
        }
      ],
      "source": [
        "p.reverse()\n",
        "p"
      ]
    },
    {
      "cell_type": "code",
      "execution_count": null,
      "metadata": {
        "colab": {
          "base_uri": "https://localhost:8080/"
        },
        "id": "EoPycrgxFqYB",
        "outputId": "c3159e42-4174-42a9-bd3f-2189ef4360f3"
      },
      "outputs": [
        {
          "data": {
            "text/plain": [
              "[45, 23, 21, 13, 10]"
            ]
          },
          "execution_count": 49,
          "metadata": {},
          "output_type": "execute_result"
        }
      ],
      "source": [
        "p.sort(reverse=True)\n",
        "p"
      ]
    },
    {
      "cell_type": "code",
      "execution_count": null,
      "metadata": {
        "colab": {
          "base_uri": "https://localhost:8080/"
        },
        "id": "sxn8yTq9Fxf_",
        "outputId": "3a340722-7628-4b0e-ec0d-5eda244edebc"
      },
      "outputs": [
        {
          "data": {
            "text/plain": [
              "[23, 34, 56, 342]"
            ]
          },
          "execution_count": 51,
          "metadata": {},
          "output_type": "execute_result"
        }
      ],
      "source": [
        "a=[23,34,56,342]\n",
        "c=a.copy()\n",
        "c"
      ]
    },
    {
      "cell_type": "code",
      "execution_count": null,
      "metadata": {
        "colab": {
          "base_uri": "https://localhost:8080/"
        },
        "id": "FPZnAlX8GF8d",
        "outputId": "472fa25f-d973-46e1-e71a-bebc68933017"
      },
      "outputs": [
        {
          "data": {
            "text/plain": [
              "[23, 34, 56, 342]"
            ]
          },
          "execution_count": 52,
          "metadata": {},
          "output_type": "execute_result"
        }
      ],
      "source": [
        "a"
      ]
    },
    {
      "cell_type": "code",
      "execution_count": null,
      "metadata": {
        "colab": {
          "base_uri": "https://localhost:8080/"
        },
        "id": "V8YDTz0lGmO5",
        "outputId": "a9b82301-9f1a-42f5-b685-96248860c947"
      },
      "outputs": [
        {
          "data": {
            "text/plain": [
              "[199, 34, 56, 342]"
            ]
          },
          "execution_count": 54,
          "metadata": {},
          "output_type": "execute_result"
        }
      ],
      "source": [
        "a[0]=199\n",
        "a"
      ]
    },
    {
      "cell_type": "code",
      "execution_count": null,
      "metadata": {
        "colab": {
          "base_uri": "https://localhost:8080/"
        },
        "id": "01qIx9dFGwic",
        "outputId": "056a60b5-cc9a-438a-ed27-5534f4e903ec"
      },
      "outputs": [
        {
          "data": {
            "text/plain": [
              "[199, 34, 56, 4564533333333333333333333333333333333333333333333333333]"
            ]
          },
          "execution_count": 55,
          "metadata": {},
          "output_type": "execute_result"
        }
      ],
      "source": [
        "a[-1]=4564533333333333333333333333333333333333333333333333333\n",
        "a"
      ]
    },
    {
      "cell_type": "markdown",
      "metadata": {
        "id": "IazbN5i1Hzb0"
      },
      "source": [
        "Tupple:similar to list, which is also collection of elements.Tuples are immutable.."
      ]
    },
    {
      "cell_type": "code",
      "execution_count": null,
      "metadata": {
        "colab": {
          "base_uri": "https://localhost:8080/"
        },
        "id": "9e0ikqS4H_NG",
        "outputId": "9bdc52bd-5873-4dbd-fb83-103a33aa4d16"
      },
      "outputs": [
        {
          "data": {
            "text/plain": [
              "(23, 34, 5, 65)"
            ]
          },
          "execution_count": 58,
          "metadata": {},
          "output_type": "execute_result"
        }
      ],
      "source": [
        "t=(23,34,5,65)\n",
        "t"
      ]
    },
    {
      "cell_type": "code",
      "execution_count": null,
      "metadata": {
        "colab": {
          "base_uri": "https://localhost:8080/"
        },
        "id": "KUX2fRiXIc_H",
        "outputId": "b3d701ca-afd1-4a05-d7e2-b4805cdd1306"
      },
      "outputs": [
        {
          "data": {
            "text/plain": [
              "1"
            ]
          },
          "execution_count": 60,
          "metadata": {},
          "output_type": "execute_result"
        }
      ],
      "source": [
        "t.count(23)"
      ]
    },
    {
      "cell_type": "code",
      "execution_count": null,
      "metadata": {
        "colab": {
          "base_uri": "https://localhost:8080/"
        },
        "id": "BHvlJiQ1IlCO",
        "outputId": "58d66acc-5385-4879-ea6a-e5667a4ad877"
      },
      "outputs": [
        {
          "data": {
            "text/plain": [
              "3"
            ]
          },
          "execution_count": 62,
          "metadata": {},
          "output_type": "execute_result"
        }
      ],
      "source": [
        "t.index(65)"
      ]
    },
    {
      "cell_type": "markdown",
      "metadata": {
        "id": "9JHchnK9ItlO"
      },
      "source": [
        "Dictionary:\n",
        "Dictionary is also called as Associative array.\n",
        "Dictionary stores element in {key:value} pair.\n",
        "key of dictionary should alwys be unique.{} is used"
      ]
    },
    {
      "cell_type": "code",
      "execution_count": null,
      "metadata": {
        "colab": {
          "base_uri": "https://localhost:8080/"
        },
        "id": "RitCQUqzJHV8",
        "outputId": "5a0e5ef2-ddfc-47c8-96d8-bbf9d20264a9"
      },
      "outputs": [
        {
          "data": {
            "text/plain": [
              "['ram', 13, 2022]"
            ]
          },
          "execution_count": 63,
          "metadata": {},
          "output_type": "execute_result"
        }
      ],
      "source": [
        "l=[\"ram\",13,2022]\n",
        "l"
      ]
    },
    {
      "cell_type": "code",
      "execution_count": null,
      "metadata": {
        "colab": {
          "base_uri": "https://localhost:8080/"
        },
        "id": "hD6B5YnoJwMl",
        "outputId": "0a15f8c8-f201-4fcb-f4e7-8505c1df5229"
      },
      "outputs": [
        {
          "data": {
            "text/plain": [
              "{'age': 34, 'marks': '45%', 'name': 'ram'}"
            ]
          },
          "execution_count": 67,
          "metadata": {},
          "output_type": "execute_result"
        }
      ],
      "source": [
        "di={\"name\":\"ram\",\"age\":34,\"marks\":\"45%\"}\n",
        "di"
      ]
    },
    {
      "cell_type": "code",
      "execution_count": null,
      "metadata": {
        "colab": {
          "base_uri": "https://localhost:8080/"
        },
        "id": "6BFBxKuNKgUW",
        "outputId": "d571dfbd-b972-42f8-f25f-3964cef479d8"
      },
      "outputs": [
        {
          "data": {
            "text/plain": [
              "{'age': 45, 'email': 'nyima@gmail.com', 'marks': 5.65e-05, 'name': 'abc'}"
            ]
          },
          "execution_count": 73,
          "metadata": {},
          "output_type": "execute_result"
        }
      ],
      "source": [
        "detail={'name':'abc','age':45,'email':'nyima@gmail.com','marks':0.0000565}\n",
        "detail"
      ]
    },
    {
      "cell_type": "code",
      "execution_count": null,
      "metadata": {
        "colab": {
          "base_uri": "https://localhost:8080/"
        },
        "id": "MXzJce2vK6fc",
        "outputId": "b5140cd5-6153-40aa-f071-2b3339aa8c44"
      },
      "outputs": [
        {
          "data": {
            "text/plain": [
              "5.65e-05"
            ]
          },
          "execution_count": 74,
          "metadata": {},
          "output_type": "execute_result"
        }
      ],
      "source": [
        "detail['marks']"
      ]
    },
    {
      "cell_type": "code",
      "execution_count": null,
      "metadata": {
        "colab": {
          "base_uri": "https://localhost:8080/",
          "height": 35
        },
        "id": "mFjczQFcLv2_",
        "outputId": "5aa70595-d91c-4b5e-fcb6-f2cbc74b897c"
      },
      "outputs": [
        {
          "data": {
            "application/vnd.google.colaboratory.intrinsic+json": {
              "type": "string"
            },
            "text/plain": [
              "'abc'"
            ]
          },
          "execution_count": 75,
          "metadata": {},
          "output_type": "execute_result"
        }
      ],
      "source": [
        "detail['name']"
      ]
    },
    {
      "cell_type": "code",
      "execution_count": null,
      "metadata": {
        "colab": {
          "base_uri": "https://localhost:8080/"
        },
        "id": "bDIxa39qL0L5",
        "outputId": "0f066c8c-4ade-4b07-f510-957e47cd4139"
      },
      "outputs": [
        {
          "data": {
            "text/plain": [
              "{'age': 45, 'email': 'nyima@gmail.com', 'marks': 5.65e-05, 'name': 'pasang'}"
            ]
          },
          "execution_count": 77,
          "metadata": {},
          "output_type": "execute_result"
        }
      ],
      "source": [
        "detail['name']='pasang'\n",
        "detail"
      ]
    },
    {
      "cell_type": "markdown",
      "metadata": {
        "id": "7MUkzMeUL990"
      },
      "source": [
        "dictionary operations"
      ]
    },
    {
      "cell_type": "code",
      "execution_count": null,
      "metadata": {
        "colab": {
          "base_uri": "https://localhost:8080/",
          "height": 35
        },
        "id": "iX1AvT9_MBsY",
        "outputId": "5d8c7a9b-2d86-4881-c55d-d55d8a399ba3"
      },
      "outputs": [
        {
          "data": {
            "application/vnd.google.colaboratory.intrinsic+json": {
              "type": "string"
            },
            "text/plain": [
              "'pasang'"
            ]
          },
          "execution_count": 79,
          "metadata": {},
          "output_type": "execute_result"
        }
      ],
      "source": [
        "detail.get('name')"
      ]
    },
    {
      "cell_type": "code",
      "execution_count": null,
      "metadata": {
        "id": "byVNOXNmMMpV"
      },
      "outputs": [],
      "source": [
        "detail.get(1)"
      ]
    },
    {
      "cell_type": "code",
      "execution_count": null,
      "metadata": {
        "colab": {
          "base_uri": "https://localhost:8080/"
        },
        "id": "tC12S7igMV8U",
        "outputId": "524d4679-8364-4b21-b292-b7fa71a5fb2b"
      },
      "outputs": [
        {
          "data": {
            "text/plain": [
              "dict_items([('name', 'pasang'), ('age', 45), ('email', 'nyima@gmail.com'), ('marks', 5.65e-05)])"
            ]
          },
          "execution_count": 81,
          "metadata": {},
          "output_type": "execute_result"
        }
      ],
      "source": [
        "detail.items()"
      ]
    },
    {
      "cell_type": "code",
      "execution_count": null,
      "metadata": {
        "colab": {
          "base_uri": "https://localhost:8080/"
        },
        "id": "625nBcDNMcbj",
        "outputId": "4b9f4724-4d77-40ca-af92-8c30c86239d2"
      },
      "outputs": [
        {
          "data": {
            "text/plain": [
              "dict_keys(['name', 'age', 'email', 'marks'])"
            ]
          },
          "execution_count": 82,
          "metadata": {},
          "output_type": "execute_result"
        }
      ],
      "source": [
        "detail.keys()"
      ]
    },
    {
      "cell_type": "code",
      "execution_count": null,
      "metadata": {
        "colab": {
          "base_uri": "https://localhost:8080/"
        },
        "id": "t3mbiKZoMrLS",
        "outputId": "fe9a27fe-4333-4ba7-e1f0-0aa30d8c01b8"
      },
      "outputs": [
        {
          "data": {
            "text/plain": [
              "dict_values(['pasang', 45, 'nyima@gmail.com', 5.65e-05])"
            ]
          },
          "execution_count": 83,
          "metadata": {},
          "output_type": "execute_result"
        }
      ],
      "source": [
        "detail.values()"
      ]
    },
    {
      "cell_type": "code",
      "execution_count": null,
      "metadata": {
        "colab": {
          "base_uri": "https://localhost:8080/"
        },
        "id": "m91wOeXKNAbQ",
        "outputId": "6140d364-6d24-4d76-bac2-ebf98c79138a"
      },
      "outputs": [
        {
          "data": {
            "text/plain": [
              "dict"
            ]
          },
          "execution_count": 85,
          "metadata": {},
          "output_type": "execute_result"
        }
      ],
      "source": [
        "type(detail)"
      ]
    },
    {
      "cell_type": "markdown",
      "metadata": {
        "id": "ue34oRMwNlZO"
      },
      "source": [
        "Empty dictionary"
      ]
    },
    {
      "cell_type": "code",
      "execution_count": null,
      "metadata": {
        "colab": {
          "base_uri": "https://localhost:8080/"
        },
        "id": "ntAcgnSJNo9R",
        "outputId": "e7479330-4a51-491a-de3b-273fc4148756"
      },
      "outputs": [
        {
          "data": {
            "text/plain": [
              "{}"
            ]
          },
          "execution_count": 88,
          "metadata": {},
          "output_type": "execute_result"
        }
      ],
      "source": [
        "d={}\n",
        "d"
      ]
    },
    {
      "cell_type": "code",
      "execution_count": null,
      "metadata": {
        "colab": {
          "base_uri": "https://localhost:8080/"
        },
        "id": "rxWCu_m5Nsft",
        "outputId": "5344cb4d-24cf-4bd3-d484-2383201d75f9"
      },
      "outputs": [
        {
          "data": {
            "text/plain": [
              "{'age': 2432, 'name': 'abc'}"
            ]
          },
          "execution_count": 89,
          "metadata": {},
          "output_type": "execute_result"
        }
      ],
      "source": [
        "d['name']='abc'\n",
        "d['age']=2432\n",
        "d"
      ]
    },
    {
      "cell_type": "markdown",
      "metadata": {
        "id": "CyyK7qxdN4lz"
      },
      "source": [
        "TYPE CASTING:\n",
        "convert one data type into another."
      ]
    },
    {
      "cell_type": "code",
      "execution_count": null,
      "metadata": {
        "colab": {
          "base_uri": "https://localhost:8080/"
        },
        "id": "FnT5kHCYN74x",
        "outputId": "34deab84-fd94-4f16-e526-a887304a0895"
      },
      "outputs": [
        {
          "data": {
            "text/plain": [
              "int"
            ]
          },
          "execution_count": 90,
          "metadata": {},
          "output_type": "execute_result"
        }
      ],
      "source": [
        "a=10\n",
        "type(a)"
      ]
    },
    {
      "cell_type": "code",
      "execution_count": null,
      "metadata": {
        "colab": {
          "base_uri": "https://localhost:8080/"
        },
        "id": "klC2qlfOOFbS",
        "outputId": "2fa1d9a7-722d-44cd-8fa4-b898f8ec755a"
      },
      "outputs": [
        {
          "data": {
            "text/plain": [
              "10.0"
            ]
          },
          "execution_count": 92,
          "metadata": {},
          "output_type": "execute_result"
        }
      ],
      "source": [
        "d=float(a)\n",
        "d# converting "
      ]
    },
    {
      "cell_type": "code",
      "execution_count": null,
      "metadata": {
        "colab": {
          "base_uri": "https://localhost:8080/",
          "height": 35
        },
        "id": "skuV6n-qOUF9",
        "outputId": "a01c1c8b-b8bf-4af8-8c03-70088f13e96b"
      },
      "outputs": [
        {
          "data": {
            "application/vnd.google.colaboratory.intrinsic+json": {
              "type": "string"
            },
            "text/plain": [
              "'abc'"
            ]
          },
          "execution_count": 93,
          "metadata": {},
          "output_type": "execute_result"
        }
      ],
      "source": [
        "s='abc'\n",
        "s"
      ]
    },
    {
      "cell_type": "code",
      "execution_count": null,
      "metadata": {
        "colab": {
          "base_uri": "https://localhost:8080/",
          "height": 35
        },
        "id": "4IMjCRAqOXxv",
        "outputId": "16338745-058d-4f03-c6bb-6bacd25275f4"
      },
      "outputs": [
        {
          "data": {
            "application/vnd.google.colaboratory.intrinsic+json": {
              "type": "string"
            },
            "text/plain": [
              "'123'"
            ]
          },
          "execution_count": 94,
          "metadata": {},
          "output_type": "execute_result"
        }
      ],
      "source": [
        "s='123'#alpha numeric is able to change not alphabetical\n",
        "s"
      ]
    },
    {
      "cell_type": "code",
      "execution_count": null,
      "metadata": {
        "colab": {
          "base_uri": "https://localhost:8080/",
          "height": 35
        },
        "id": "U9c0LpbNO9Yr",
        "outputId": "3d1865c9-58df-4d7a-d0d5-6b5872bd3e99"
      },
      "outputs": [
        {
          "data": {
            "application/vnd.google.colaboratory.intrinsic+json": {
              "type": "string"
            },
            "text/plain": [
              "'1232'"
            ]
          },
          "execution_count": 95,
          "metadata": {},
          "output_type": "execute_result"
        }
      ],
      "source": [
        "a='12'\n",
        "b='32'\n",
        "a+b"
      ]
    },
    {
      "cell_type": "code",
      "execution_count": null,
      "metadata": {
        "colab": {
          "base_uri": "https://localhost:8080/"
        },
        "id": "NKIyO2-3PDXK",
        "outputId": "83ab2c9c-79d2-4c09-f8f8-21491ebc6517"
      },
      "outputs": [
        {
          "data": {
            "text/plain": [
              "36"
            ]
          },
          "execution_count": 96,
          "metadata": {},
          "output_type": "execute_result"
        }
      ],
      "source": [
        "a=2\n",
        "b=34\n",
        "a+b"
      ]
    },
    {
      "cell_type": "markdown",
      "metadata": {
        "id": "lMMVhreZPq71"
      },
      "source": [
        "Accepting user innput"
      ]
    },
    {
      "cell_type": "markdown",
      "metadata": {
        "id": "Woi5Si_0Pzpo"
      },
      "source": [
        "marks=input(\"enter your marks:\")"
      ]
    },
    {
      "cell_type": "markdown",
      "metadata": {
        "id": "mk1ZyrnxRvuv"
      },
      "source": [
        "write a python program that will ask a userr to input ,radious value,circle ans display area of circle."
      ]
    },
    {
      "cell_type": "code",
      "execution_count": null,
      "metadata": {
        "colab": {
          "base_uri": "https://localhost:8080/"
        },
        "id": "fVQ1k__vSEIX",
        "outputId": "b0e678eb-7433-4602-c715-2b2679875dbd"
      },
      "outputs": [
        {
          "name": "stdout",
          "output_type": "stream",
          "text": [
            "Input the radius of the circle : 12\n",
            "The area of the circle  12.0 is: 452.3893421169302 sq cm\n"
          ]
        }
      ],
      "source": [
        "from math import pi,pow\n",
        "\n",
        "r = float(input (\"Input the radius of the circle : \"))\n",
        "print (\"The area of the circle  \" + str(r) + \" is: \" + str(pi*pow(r,2)),'sq cm')"
      ]
    },
    {
      "cell_type": "code",
      "execution_count": null,
      "metadata": {
        "colab": {
          "base_uri": "https://localhost:8080/"
        },
        "id": "5mFulzkfVJmb",
        "outputId": "dda7fc17-eaeb-4fce-962c-a284ca88381f"
      },
      "outputs": [
        {
          "name": "stdout",
          "output_type": "stream",
          "text": [
            "please enter your number12\n",
            "the area of the circle12is:452.3893421169302 sq\n"
          ]
        }
      ],
      "source": [
        "user=int(input(\"please enter your number\"))\n",
        "print(\"the area of the circle\"+ str(user)+\"is:\"+ str(pi*pow(user,2)),'sq')"
      ]
    },
    {
      "cell_type": "markdown",
      "metadata": {
        "id": "eTq7_0Y7IxRP"
      },
      "source": [
        "Python Day 4"
      ]
    },
    {
      "cell_type": "markdown",
      "metadata": {
        "id": "3OKnN1DgJaBG"
      },
      "source": [
        "Conditional Statement"
      ]
    },
    {
      "cell_type": "code",
      "execution_count": null,
      "metadata": {
        "colab": {
          "background_save": true
        },
        "id": "SSZKIEEhJj9q"
      },
      "outputs": [],
      "source": [
        ""
      ]
    }
  ],
  "metadata": {
    "colab": {
      "collapsed_sections": [],
      "name": "Python programming knowledge",
      "provenance": []
    },
    "kernelspec": {
      "display_name": "Python 3",
      "name": "python3"
    },
    "language_info": {
      "name": "python"
    }
  },
  "nbformat": 4,
  "nbformat_minor": 0
}